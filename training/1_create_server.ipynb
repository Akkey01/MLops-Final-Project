{
 "cells": [
  {
   "cell_type": "markdown",
   "metadata": {},
   "source": [
    "Before you begin, open this experiment on Trovi:\n",
    "\n",
    "-   Use this link: [Large-scale model training on Chameleon](https://chameleoncloud.org/experiment/share/39a536c6-6070-4ccf-9e91-bc47be9a94af) on Trovi\n",
    "-   Then, click “Launch on Chameleon”. This will start a new Jupyter server for you, with the experiment materials already in it.\n",
    "\n",
    "You will see several notebooks inside the `llm-chi` directory - look for the one titled `1_create_server.ipynb`. Open this notebook and continue there."
   ]
  },
  {
   "cell_type": "markdown",
   "metadata": {},
   "source": [
    "## Bring up a GPU server\n",
    "\n",
    "At the beginning of the lease time, we will bring up our GPU server. We will use the `python-chi` Python API to Chameleon to provision our server.\n",
    "\n",
    "We will execute the cells in this notebook inside the Chameleon Jupyter environment.\n",
    "\n",
    "Run the following cell, and make sure the correct project is selected:"
   ]
  },
  {
   "cell_type": "code",
   "execution_count": 5,
   "metadata": {
    "tags": []
   },
   "outputs": [
    {
     "data": {
      "application/vnd.jupyter.widget-view+json": {
       "model_id": "87765da464ce457ca557874bf5d0ffbd",
       "version_major": 2,
       "version_minor": 0
      },
      "text/plain": [
       "VBox(children=(Dropdown(description='Select Project', options=('CHI-251409',), value='CHI-251409'), Output()))"
      ]
     },
     "metadata": {},
     "output_type": "display_data"
    },
    {
     "data": {
      "application/vnd.jupyter.widget-view+json": {
       "model_id": "c6471b7f73ac41499337ba84b9922d24",
       "version_major": 2,
       "version_minor": 0
      },
      "text/plain": [
       "VBox(children=(Dropdown(description='Select Site', index=1, options=('CHI@TACC', 'CHI@UC', 'CHI@EVL', 'CHI@NCA…"
      ]
     },
     "metadata": {},
     "output_type": "display_data"
    }
   ],
   "source": [
    "from chi import server, context, lease\n",
    "import os\n",
    "\n",
    "context.version = \"1.0\" \n",
    "context.choose_project()\n",
    "context.choose_site(default=\"CHI@UC\")"
   ]
  },
  {
   "cell_type": "markdown",
   "metadata": {},
   "source": [
    "Change the string in the following cell to reflect the name of *your* lease (**with your own net ID**), then run it to get your lease:"
   ]
  },
  {
   "cell_type": "code",
   "execution_count": null,
   "metadata": {
    "tags": []
   },
   "outputs": [
    {
     "data": {
      "application/vnd.jupyter.widget-view+json": {
       "model_id": "571b7a703abe497080df2230b91a647c",
       "version_major": 2,
       "version_minor": 0
      },
      "text/plain": [
       "HTML(value='\\n        <h2>Lease Details</h2>\\n        <table>\\n            <tr><th>Name</th><td>nodes3-project…"
      ]
     },
     "metadata": {},
     "output_type": "display_data"
    },
    {
     "name": "stdout",
     "output_type": "stream",
     "text": [
      "Lease Details:\n",
      "Name: nodes3-project39\n",
      "ID: 643c77e1-00e5-4f9f-8ec0-07ff1cf42ce3\n",
      "Status: ACTIVE\n",
      "Start Date: 2025-05-10 09:10:00\n",
      "End Date: 2025-05-10 15:10:00\n",
      "User ID: 0ed88604379ab4845e1a1d720467e9001f097c95b423985b19619fa8f25d7f91\n",
      "Project ID: 7c0a7a1952e44c94aa75cae1ff5dc9b4\n",
      "\n",
      "Node Reservations:\n",
      "ID: 5f24354b-8423-4655-9c48-b0323ab0c85c, Status: active, Min: 1, Max: 1\n",
      "\n",
      "Floating IP Reservations:\n",
      "\n",
      "Network Reservations:\n",
      "\n",
      "Events:\n"
     ]
    }
   ],
   "source": [
    "l = lease.get_lease(f\"node2-project39\") # or llm_single_netID, or llm_multi_netID\n",
    "l.show()"
   ]
  },
  {
   "cell_type": "markdown",
   "metadata": {},
   "source": [
    "The status should show as “ACTIVE” now that we are past the lease start time.\n",
    "\n",
    "The rest of this notebook can be executed without any interactions from you, so at this point, you can save time by clicking on this cell, then selecting Run \\> Run Selected Cell and All Below from the Jupyter menu.\n",
    "\n",
    "As the notebook executes, monitor its progress to make sure it does not get stuck on any execution error, and also to see what it is doing!"
   ]
  },
  {
   "cell_type": "markdown",
   "metadata": {},
   "source": [
    "We will use the lease to bring up a server with the `CC-Ubuntu24.04-CUDA` disk image. (Note that the reservation information is passed when we create the instance!) This will take up to 10 minutes."
   ]
  },
  {
   "cell_type": "code",
   "execution_count": null,
   "metadata": {
    "tags": []
   },
   "outputs": [
    {
     "name": "stdout",
     "output_type": "stream",
     "text": [
      "Waiting for server node2-project39's status to become ACTIVE. This typically takes 10 minutes, but can take up to 20 minutes.\n"
     ]
    },
    {
     "data": {
      "application/vnd.jupyter.widget-view+json": {
       "model_id": "6c5042223ffc4b3aae012d44fdec5e26",
       "version_major": 2,
       "version_minor": 0
      },
      "text/plain": [
       "HBox(children=(Label(value=''), IntProgress(value=0, bar_style='success')))"
      ]
     },
     "metadata": {},
     "output_type": "display_data"
    },
    {
     "name": "stdout",
     "output_type": "stream",
     "text": [
      "Server has moved to status ACTIVE\n"
     ]
    },
    {
     "data": {
      "text/html": [
       "<table style='border-collapse: collapse; width: 100%;'><tr style='background-color: #f2f2f2;'><th style='border: 1px solid #ddd; padding: 8px;'>Attribute</th><th style='border: 1px solid #ddd; padding: 8px;'>node2-project39</th></tr><tr><td style='border: 1px solid #ddd; padding: 8px;'>Id</td><td style='border: 1px solid #ddd; padding: 8px;'>2dda712d-94a7-48ea-9cbf-52144b708bb6</td></tr><tr><td style='border: 1px solid #ddd; padding: 8px;'>Status</td><td style='border: 1px solid #ddd; padding: 8px;'>ACTIVE</td></tr><tr><td style='border: 1px solid #ddd; padding: 8px;'>Image Name</td><td style='border: 1px solid #ddd; padding: 8px;'>CC-Ubuntu24.04-CUDA</td></tr><tr><td style='border: 1px solid #ddd; padding: 8px;'>Flavor Name</td><td style='border: 1px solid #ddd; padding: 8px;'>baremetal</td></tr><tr><td style='border: 1px solid #ddd; padding: 8px;'>Addresses</td><td style='border: 1px solid #ddd; padding: 8px;'><strong>sharednet1:</strong><br>&nbsp;&nbsp;IP: 10.140.81.96 (v4)<br>&nbsp;&nbsp;Type: fixed<br>&nbsp;&nbsp;MAC: 14:23:f2:a4:22:c0<br></td></tr><tr><td style='border: 1px solid #ddd; padding: 8px;'>Network Name</td><td style='border: 1px solid #ddd; padding: 8px;'>sharednet1</td></tr><tr><td style='border: 1px solid #ddd; padding: 8px;'>Created At</td><td style='border: 1px solid #ddd; padding: 8px;'>2025-05-10T09:57:57Z</td></tr><tr><td style='border: 1px solid #ddd; padding: 8px;'>Keypair</td><td style='border: 1px solid #ddd; padding: 8px;'>trovi-b104fa3</td></tr><tr><td style='border: 1px solid #ddd; padding: 8px;'>Reservation Id</td><td style='border: 1px solid #ddd; padding: 8px;'>5f24354b-8423-4655-9c48-b0323ab0c85c</td></tr><tr><td style='border: 1px solid #ddd; padding: 8px;'>Host Id</td><td style='border: 1px solid #ddd; padding: 8px;'>c15c5d0cd98629a41c320d11364f137f4320899eed52f609fb88500c</td></tr><tr><td style='border: 1px solid #ddd; padding: 8px;'>Host Status</td><td style='border: 1px solid #ddd; padding: 8px;'>None</td></tr><tr><td style='border: 1px solid #ddd; padding: 8px;'>Hypervisor Hostname</td><td style='border: 1px solid #ddd; padding: 8px;'>67380d81-3107-4041-81c9-497e3ef04d49</td></tr><tr><td style='border: 1px solid #ddd; padding: 8px;'>Is Locked</td><td style='border: 1px solid #ddd; padding: 8px;'>False</td></tr></table>"
      ],
      "text/plain": [
       "<IPython.core.display.HTML object>"
      ]
     },
     "metadata": {},
     "output_type": "display_data"
    }
   ],
   "source": [
    "username = os.getenv('USER') # all exp resources will have this prefix\n",
    "s = server.Server(\n",
    "    f\"node2-project39\", \n",
    "    reservation_id=l.node_reservations[0][\"id\"],\n",
    "    image_name=\"CC-Ubuntu24.04-CUDA\"\n",
    ")\n",
    "s.submit(idempotent=True)"
   ]
  },
  {
   "cell_type": "markdown",
   "metadata": {},
   "source": [
    "Note: security groups are not used at Chameleon bare metal sites, so we do not have to configure any security groups on this instance."
   ]
  },
  {
   "cell_type": "markdown",
   "metadata": {},
   "source": [
    "Then, we’ll associate a floating IP with the instance, so that we can access it over SSH."
   ]
  },
  {
   "cell_type": "code",
   "execution_count": 8,
   "metadata": {
    "tags": []
   },
   "outputs": [],
   "source": [
    "s.associate_floating_ip()"
   ]
  },
  {
   "cell_type": "code",
   "execution_count": 5,
   "metadata": {
    "tags": []
   },
   "outputs": [
    {
     "name": "stdout",
     "output_type": "stream",
     "text": [
      "Checking connectivity to 192.5.87.67 port 22.\n"
     ]
    },
    {
     "data": {
      "application/vnd.jupyter.widget-view+json": {
       "model_id": "0a3431b94a69476389bacee808c9b58a",
       "version_major": 2,
       "version_minor": 0
      },
      "text/plain": [
       "HBox(children=(Label(value=''), IntProgress(value=0, bar_style='success')))"
      ]
     },
     "metadata": {},
     "output_type": "display_data"
    },
    {
     "name": "stdout",
     "output_type": "stream",
     "text": [
      "Connection successful\n"
     ]
    }
   ],
   "source": [
    "s.refresh()\n",
    "s.check_connectivity()"
   ]
  },
  {
   "cell_type": "code",
   "execution_count": 6,
   "metadata": {
    "tags": []
   },
   "outputs": [
    {
     "data": {
      "text/html": [
       "<table style='border-collapse: collapse; width: 100%;'><tr style='background-color: #f2f2f2;'><th style='border: 1px solid #ddd; padding: 8px;'>Attribute</th><th style='border: 1px solid #ddd; padding: 8px;'>node2-project39</th></tr><tr><td style='border: 1px solid #ddd; padding: 8px;'>Id</td><td style='border: 1px solid #ddd; padding: 8px;'>2dda712d-94a7-48ea-9cbf-52144b708bb6</td></tr><tr><td style='border: 1px solid #ddd; padding: 8px;'>Status</td><td style='border: 1px solid #ddd; padding: 8px;'>ACTIVE</td></tr><tr><td style='border: 1px solid #ddd; padding: 8px;'>Image Name</td><td style='border: 1px solid #ddd; padding: 8px;'>CC-Ubuntu24.04-CUDA</td></tr><tr><td style='border: 1px solid #ddd; padding: 8px;'>Flavor Name</td><td style='border: 1px solid #ddd; padding: 8px;'>baremetal</td></tr><tr><td style='border: 1px solid #ddd; padding: 8px;'>Addresses</td><td style='border: 1px solid #ddd; padding: 8px;'><strong>sharednet1:</strong><br>&nbsp;&nbsp;IP: 10.140.81.96 (v4)<br>&nbsp;&nbsp;Type: fixed<br>&nbsp;&nbsp;MAC: 14:23:f2:a4:22:c0<br>&nbsp;&nbsp;IP: 192.5.87.67 (v4)<br>&nbsp;&nbsp;Type: floating<br>&nbsp;&nbsp;MAC: 14:23:f2:a4:22:c0<br></td></tr><tr><td style='border: 1px solid #ddd; padding: 8px;'>Network Name</td><td style='border: 1px solid #ddd; padding: 8px;'>sharednet1</td></tr><tr><td style='border: 1px solid #ddd; padding: 8px;'>Created At</td><td style='border: 1px solid #ddd; padding: 8px;'>2025-05-10T09:57:57Z</td></tr><tr><td style='border: 1px solid #ddd; padding: 8px;'>Keypair</td><td style='border: 1px solid #ddd; padding: 8px;'>trovi-b104fa3</td></tr><tr><td style='border: 1px solid #ddd; padding: 8px;'>Reservation Id</td><td style='border: 1px solid #ddd; padding: 8px;'>5f24354b-8423-4655-9c48-b0323ab0c85c</td></tr><tr><td style='border: 1px solid #ddd; padding: 8px;'>Host Id</td><td style='border: 1px solid #ddd; padding: 8px;'>c15c5d0cd98629a41c320d11364f137f4320899eed52f609fb88500c</td></tr><tr><td style='border: 1px solid #ddd; padding: 8px;'>Host Status</td><td style='border: 1px solid #ddd; padding: 8px;'>None</td></tr><tr><td style='border: 1px solid #ddd; padding: 8px;'>Hypervisor Hostname</td><td style='border: 1px solid #ddd; padding: 8px;'>67380d81-3107-4041-81c9-497e3ef04d49</td></tr><tr><td style='border: 1px solid #ddd; padding: 8px;'>Is Locked</td><td style='border: 1px solid #ddd; padding: 8px;'>False</td></tr></table>"
      ],
      "text/plain": [
       "<IPython.core.display.HTML object>"
      ]
     },
     "metadata": {},
     "output_type": "display_data"
    }
   ],
   "source": [
    "s.refresh()\n",
    "s.show(type=\"widget\")"
   ]
  },
  {
   "cell_type": "markdown",
   "metadata": {},
   "source": [
    "## Retrieve code and notebooks on the instance\n",
    "\n",
    "Now, we can use `python-chi` to execute commands on the instance, to set it up. We’ll start by retrieving the code and other materials on the instance."
   ]
  },
  {
   "cell_type": "code",
   "execution_count": 7,
   "metadata": {
    "tags": []
   },
   "outputs": [
    {
     "name": "stderr",
     "output_type": "stream",
     "text": [
      "/opt/conda/lib/python3.10/site-packages/paramiko/client.py:889: UserWarning: Unknown ssh-ed25519 host key for 192.5.87.67: b'ee08e9465a322adeabe39294729b5701'\n",
      "  warnings.warn(\n",
      "Cloning into 'MLops-Final-Project'...\n"
     ]
    },
    {
     "data": {
      "text/plain": [
       "<Result cmd='git clone --branch main https://github.com/Akkey01/MLops-Final-Project.git' exited=0>"
      ]
     },
     "execution_count": 7,
     "metadata": {},
     "output_type": "execute_result"
    }
   ],
   "source": [
    "s.execute(\"git clone --branch main https://github.com/Akkey01/MLops-Final-Project.git\")"
   ]
  },
  {
   "cell_type": "markdown",
   "metadata": {},
   "source": [
    "## Set up Docker with NVIDIA container toolkit\n",
    "\n",
    "To use common deep learning frameworks like Tensorflow or PyTorch, we can run containers that have all the prerequisite libraries necessary for these frameworks. Here, we will set up the container framework."
   ]
  },
  {
   "cell_type": "code",
   "execution_count": 8,
   "metadata": {
    "tags": []
   },
   "outputs": [
    {
     "name": "stdout",
     "output_type": "stream",
     "text": [
      "# Executing docker install script, commit: 53a22f61c0628e58e1d6680b49e82993d304b449\n"
     ]
    },
    {
     "name": "stderr",
     "output_type": "stream",
     "text": [
      "+ sh -c apt-get -qq update >/dev/null\n",
      "+ sh -c DEBIAN_FRONTEND=noninteractive apt-get -y -qq install ca-certificates curl >/dev/null\n",
      "+ sh -c install -m 0755 -d /etc/apt/keyrings\n",
      "+ sh -c curl -fsSL \"https://download.docker.com/linux/ubuntu/gpg\" -o /etc/apt/keyrings/docker.asc\n",
      "+ sh -c chmod a+r /etc/apt/keyrings/docker.asc\n",
      "+ sh -c echo \"deb [arch=amd64 signed-by=/etc/apt/keyrings/docker.asc] https://download.docker.com/linux/ubuntu noble stable\" > /etc/apt/sources.list.d/docker.list\n",
      "+ sh -c apt-get -qq update >/dev/null\n",
      "+ sh -c DEBIAN_FRONTEND=noninteractive apt-get -y -qq install docker-ce docker-ce-cli containerd.io docker-compose-plugin docker-ce-rootless-extras docker-buildx-plugin >/dev/null\n",
      "\n",
      "Running kernel seems to be up-to-date.\n",
      "\n",
      "The processor microcode seems to be up-to-date.\n",
      "\n",
      "No services need to be restarted.\n",
      "\n",
      "No containers need to be restarted.\n",
      "\n",
      "No user sessions are running outdated binaries.\n",
      "\n",
      "No VM guests are running outdated hypervisor (qemu) binaries on this host.\n",
      "+ sh -c docker version\n"
     ]
    },
    {
     "name": "stdout",
     "output_type": "stream",
     "text": [
      "Client: Docker Engine - Community\n",
      " Version:           28.1.1\n",
      " API version:       1.49\n",
      " Go version:        go1.23.8\n",
      " Git commit:        4eba377\n",
      " Built:             Fri Apr 18 09:52:14 2025\n",
      " OS/Arch:           linux/amd64\n",
      " Context:           default\n",
      "\n",
      "Server: Docker Engine - Community\n",
      " Engine:\n",
      "  Version:          28.1.1\n",
      "  API version:      1.49 (minimum version 1.24)\n",
      "  Go version:       go1.23.8\n",
      "  Git commit:       01f442b\n",
      "  Built:            Fri Apr 18 09:52:14 2025\n",
      "  OS/Arch:          linux/amd64\n",
      "  Experimental:     false\n",
      " containerd:\n",
      "  Version:          1.7.27\n",
      "  GitCommit:        05044ec0a9a75232cad458027ca83437aae3f4da\n",
      " runc:\n",
      "  Version:          1.2.5\n",
      "  GitCommit:        v1.2.5-0-g59923ef\n",
      " docker-init:\n",
      "  Version:          0.19.0\n",
      "  GitCommit:        de40ad0\n",
      "\n",
      "================================================================================\n",
      "\n",
      "To run Docker as a non-privileged user, consider setting up the\n",
      "Docker daemon in rootless mode for your user:\n",
      "\n",
      "    dockerd-rootless-setuptool.sh install\n",
      "\n",
      "Visit https://docs.docker.com/go/rootless/ to learn about rootless mode.\n",
      "\n",
      "\n",
      "To run the Docker daemon as a fully privileged service, but granting non-root\n",
      "users access, refer to https://docs.docker.com/go/daemon-access/\n",
      "\n",
      "WARNING: Access to the remote API on a privileged Docker daemon is equivalent\n",
      "         to root access on the host. Refer to the 'Docker daemon attack surface'\n",
      "         documentation for details: https://docs.docker.com/go/attack-surface/\n",
      "\n",
      "================================================================================\n",
      "\n"
     ]
    },
    {
     "name": "stderr",
     "output_type": "stream",
     "text": [
      "Unable to find image 'hello-world:latest' locally\n",
      "latest: Pulling from library/hello-world\n",
      "e6590344b1a5: Pulling fs layer\n",
      "e6590344b1a5: Verifying Checksum\n",
      "e6590344b1a5: Download complete\n",
      "e6590344b1a5: Pull complete\n",
      "Digest: sha256:c41088499908a59aae84b0a49c70e86f4731e588a737f1637e73c8c09d995654\n",
      "Status: Downloaded newer image for hello-world:latest\n"
     ]
    },
    {
     "name": "stdout",
     "output_type": "stream",
     "text": [
      "\n",
      "Hello from Docker!\n",
      "This message shows that your installation appears to be working correctly.\n",
      "\n",
      "To generate this message, Docker took the following steps:\n",
      " 1. The Docker client contacted the Docker daemon.\n",
      " 2. The Docker daemon pulled the \"hello-world\" image from the Docker Hub.\n",
      "    (amd64)\n",
      " 3. The Docker daemon created a new container from that image which runs the\n",
      "    executable that produces the output you are currently reading.\n",
      " 4. The Docker daemon streamed that output to the Docker client, which sent it\n",
      "    to your terminal.\n",
      "\n",
      "To try something more ambitious, you can run an Ubuntu container with:\n",
      " $ docker run -it ubuntu bash\n",
      "\n",
      "Share images, automate workflows, and more with a free Docker ID:\n",
      " https://hub.docker.com/\n",
      "\n",
      "For more examples and ideas, visit:\n",
      " https://docs.docker.com/get-started/\n",
      "\n"
     ]
    },
    {
     "data": {
      "text/plain": [
       "<Result cmd='docker run hello-world' exited=0>"
      ]
     },
     "execution_count": 8,
     "metadata": {},
     "output_type": "execute_result"
    }
   ],
   "source": [
    "s.execute(\"curl -sSL https://get.docker.com/ | sudo sh\")\n",
    "s.execute(\"sudo groupadd -f docker; sudo usermod -aG docker $USER\")\n",
    "s.execute(\"docker run hello-world\")"
   ]
  },
  {
   "cell_type": "markdown",
   "metadata": {},
   "source": [
    "We will also install the NVIDIA container toolkit, with which we can access GPUs from inside our containers."
   ]
  },
  {
   "cell_type": "code",
   "execution_count": 9,
   "metadata": {
    "tags": []
   },
   "outputs": [
    {
     "name": "stdout",
     "output_type": "stream",
     "text": [
      "deb [signed-by=/usr/share/keyrings/nvidia-container-toolkit-keyring.gpg] https://nvidia.github.io/libnvidia-container/stable/deb/$(ARCH) /\n",
      "#deb [signed-by=/usr/share/keyrings/nvidia-container-toolkit-keyring.gpg] https://nvidia.github.io/libnvidia-container/experimental/deb/$(ARCH) /\n"
     ]
    },
    {
     "name": "stderr",
     "output_type": "stream",
     "text": [
      "\n",
      "WARNING: apt does not have a stable CLI interface. Use with caution in scripts.\n",
      "\n"
     ]
    },
    {
     "name": "stdout",
     "output_type": "stream",
     "text": [
      "Get:1 https://nvidia.github.io/libnvidia-container/stable/deb/amd64  InRelease [1477 B]\n",
      "Hit:2 https://developer.download.nvidia.com/compute/cuda/repos/ubuntu2404/x86_64  InRelease\n",
      "Hit:3 https://download.docker.com/linux/ubuntu noble InRelease\n",
      "Get:4 https://nvidia.github.io/libnvidia-container/stable/deb/amd64  Packages [18.6 kB]\n",
      "Get:5 http://nova.clouds.archive.ubuntu.com/ubuntu noble InRelease [256 kB]\n",
      "Hit:6 http://security.ubuntu.com/ubuntu noble-security InRelease\n",
      "Get:7 http://nova.clouds.archive.ubuntu.com/ubuntu noble-updates InRelease [126 kB]\n",
      "Get:8 http://nova.clouds.archive.ubuntu.com/ubuntu noble-backports InRelease [126 kB]\n",
      "Get:9 http://nova.clouds.archive.ubuntu.com/ubuntu noble-updates/main amd64 Components [161 kB]\n",
      "Get:10 http://nova.clouds.archive.ubuntu.com/ubuntu noble-updates/universe amd64 Components [376 kB]\n",
      "Get:11 http://nova.clouds.archive.ubuntu.com/ubuntu noble-updates/restricted amd64 Components [212 B]\n",
      "Get:12 http://nova.clouds.archive.ubuntu.com/ubuntu noble-updates/multiverse amd64 Components [940 B]\n",
      "Get:13 http://nova.clouds.archive.ubuntu.com/ubuntu noble-backports/main amd64 Components [7064 B]\n",
      "Get:14 http://nova.clouds.archive.ubuntu.com/ubuntu noble-backports/universe amd64 Components [16.4 kB]\n",
      "Get:15 http://nova.clouds.archive.ubuntu.com/ubuntu noble-backports/restricted amd64 Components [212 B]\n",
      "Get:16 http://nova.clouds.archive.ubuntu.com/ubuntu noble-backports/multiverse amd64 Components [212 B]\n",
      "Fetched 1091 kB in 1s (1737 kB/s)\n",
      "Reading package lists...\n",
      "Building dependency tree...\n",
      "Reading state information...\n",
      "4 packages can be upgraded. Run 'apt list --upgradable' to see them.\n",
      "Reading package lists...\n",
      "Building dependency tree...\n",
      "Reading state information...\n",
      "The following additional packages will be installed:\n",
      "  libnvidia-container-tools libnvidia-container1 nvidia-container-toolkit-base\n",
      "The following NEW packages will be installed:\n",
      "  libnvidia-container-tools libnvidia-container1 nvidia-container-toolkit\n",
      "  nvidia-container-toolkit-base\n",
      "0 upgraded, 4 newly installed, 0 to remove and 4 not upgraded.\n",
      "Need to get 5849 kB of archives.\n",
      "After this operation, 27.9 MB of additional disk space will be used.\n",
      "Get:1 https://developer.download.nvidia.com/compute/cuda/repos/ubuntu2404/x86_64  libnvidia-container1 1.17.6-1 [926 kB]\n",
      "Get:2 https://developer.download.nvidia.com/compute/cuda/repos/ubuntu2404/x86_64  libnvidia-container-tools 1.17.6-1 [21.5 kB]\n",
      "Get:3 https://developer.download.nvidia.com/compute/cuda/repos/ubuntu2404/x86_64  nvidia-container-toolkit-base 1.17.6-1 [3711 kB]\n",
      "Get:4 https://developer.download.nvidia.com/compute/cuda/repos/ubuntu2404/x86_64  nvidia-container-toolkit 1.17.6-1 [1191 kB]\n"
     ]
    },
    {
     "name": "stderr",
     "output_type": "stream",
     "text": [
      "debconf: unable to initialize frontend: Dialog\n",
      "debconf: (Dialog frontend will not work on a dumb terminal, an emacs shell buffer, or without a controlling terminal.)\n",
      "debconf: falling back to frontend: Readline\n",
      "debconf: unable to initialize frontend: Readline\n",
      "debconf: (This frontend requires a controlling tty.)\n",
      "debconf: falling back to frontend: Teletype\n",
      "dpkg-preconfigure: unable to re-open stdin: \n"
     ]
    },
    {
     "name": "stdout",
     "output_type": "stream",
     "text": [
      "Fetched 5849 kB in 2s (3614 kB/s)\n",
      "Selecting previously unselected package libnvidia-container1:amd64.\n",
      "(Reading database ... 113813 files and directories currently installed.)\n",
      "Preparing to unpack .../libnvidia-container1_1.17.6-1_amd64.deb ...\n",
      "Unpacking libnvidia-container1:amd64 (1.17.6-1) ...\n",
      "Selecting previously unselected package libnvidia-container-tools.\n",
      "Preparing to unpack .../libnvidia-container-tools_1.17.6-1_amd64.deb ...\n",
      "Unpacking libnvidia-container-tools (1.17.6-1) ...\n",
      "Selecting previously unselected package nvidia-container-toolkit-base.\n",
      "Preparing to unpack .../nvidia-container-toolkit-base_1.17.6-1_amd64.deb ...\n",
      "Unpacking nvidia-container-toolkit-base (1.17.6-1) ...\n",
      "Selecting previously unselected package nvidia-container-toolkit.\n",
      "Preparing to unpack .../nvidia-container-toolkit_1.17.6-1_amd64.deb ...\n",
      "Unpacking nvidia-container-toolkit (1.17.6-1) ...\n",
      "Setting up nvidia-container-toolkit-base (1.17.6-1) ...\n",
      "Setting up libnvidia-container1:amd64 (1.17.6-1) ...\n",
      "Setting up libnvidia-container-tools (1.17.6-1) ...\n",
      "Setting up nvidia-container-toolkit (1.17.6-1) ...\n",
      "Processing triggers for libc-bin (2.39-0ubuntu8.4) ...\n"
     ]
    },
    {
     "name": "stderr",
     "output_type": "stream",
     "text": [
      "debconf: unable to initialize frontend: Dialog\n",
      "debconf: (Dialog frontend will not work on a dumb terminal, an emacs shell buffer, or without a controlling terminal.)\n",
      "debconf: falling back to frontend: Readline\n",
      "debconf: unable to initialize frontend: Readline\n",
      "debconf: (This frontend requires a controlling tty.)\n",
      "debconf: falling back to frontend: Teletype\n",
      "\n",
      "Running kernel seems to be up-to-date.\n",
      "\n",
      "The processor microcode seems to be up-to-date.\n",
      "\n",
      "No services need to be restarted.\n",
      "\n",
      "No containers need to be restarted.\n",
      "\n",
      "No user sessions are running outdated binaries.\n",
      "\n",
      "No VM guests are running outdated hypervisor (qemu) binaries on this host.\n",
      "time=\"2025-05-10T10:41:22Z\" level=info msg=\"Config file does not exist; using empty config\"\n",
      "time=\"2025-05-10T10:41:22Z\" level=info msg=\"Wrote updated config to /etc/docker/daemon.json\"\n",
      "time=\"2025-05-10T10:41:22Z\" level=info msg=\"It is recommended that docker daemon be restarted.\"\n"
     ]
    },
    {
     "data": {
      "text/plain": [
       "<Result cmd='sudo systemctl restart docker' exited=0>"
      ]
     },
     "execution_count": 9,
     "metadata": {},
     "output_type": "execute_result"
    }
   ],
   "source": [
    "# get NVIDIA container toolkit \n",
    "s.execute(\"curl -fsSL https://nvidia.github.io/libnvidia-container/gpgkey | sudo gpg --dearmor -o /usr/share/keyrings/nvidia-container-toolkit-keyring.gpg \\\n",
    "  && curl -s -L https://nvidia.github.io/libnvidia-container/stable/deb/nvidia-container-toolkit.list | \\\n",
    "    sed 's#deb https://#deb [signed-by=/usr/share/keyrings/nvidia-container-toolkit-keyring.gpg] https://#g' | \\\n",
    "    sudo tee /etc/apt/sources.list.d/nvidia-container-toolkit.list\")\n",
    "s.execute(\"sudo apt update\")\n",
    "s.execute(\"sudo apt-get install -y nvidia-container-toolkit\")\n",
    "s.execute(\"sudo nvidia-ctk runtime configure --runtime=docker\")\n",
    "s.execute(\"sudo systemctl restart docker\")"
   ]
  },
  {
   "cell_type": "markdown",
   "metadata": {},
   "source": [
    "In the following cell, we will verify that we can see our NVIDIA GPUs from inside a container, by passing `--gpus-all`. (The `-rm` flag says to clean up the container and remove its filesystem when it finishes running.)"
   ]
  },
  {
   "cell_type": "code",
   "execution_count": 10,
   "metadata": {
    "tags": []
   },
   "outputs": [
    {
     "name": "stderr",
     "output_type": "stream",
     "text": [
      "Unable to find image 'ubuntu:latest' locally\n",
      "latest: Pulling from library/ubuntu\n",
      "0622fac788ed: Pulling fs layer\n",
      "0622fac788ed: Verifying Checksum\n",
      "0622fac788ed: Download complete\n",
      "0622fac788ed: Pull complete\n",
      "Digest: sha256:6015f66923d7afbc53558d7ccffd325d43b4e249f41a6e93eef074c9505d2233\n",
      "Status: Downloaded newer image for ubuntu:latest\n"
     ]
    },
    {
     "name": "stdout",
     "output_type": "stream",
     "text": [
      "Sat May 10 10:41:37 2025       \n",
      "+-----------------------------------------------------------------------------------------+\n",
      "| NVIDIA-SMI 560.35.05              Driver Version: 560.35.05      CUDA Version: 12.6     |\n",
      "|-----------------------------------------+------------------------+----------------------+\n",
      "| GPU  Name                 Persistence-M | Bus-Id          Disp.A | Volatile Uncorr. ECC |\n",
      "| Fan  Temp   Perf          Pwr:Usage/Cap |           Memory-Usage | GPU-Util  Compute M. |\n",
      "|                                         |                        |               MIG M. |\n",
      "|=========================================+========================+======================|\n",
      "|   0  NVIDIA A100 80GB PCIe          Off |   00000000:27:00.0 Off |                    0 |\n",
      "| N/A   54C    P0             52W /  300W |       1MiB /  81920MiB |      0%      Default |\n",
      "|                                         |                        |             Disabled |\n",
      "+-----------------------------------------+------------------------+----------------------+\n",
      "                                                                                         \n",
      "+-----------------------------------------------------------------------------------------+\n",
      "| Processes:                                                                              |\n",
      "|  GPU   GI   CI        PID   Type   Process name                              GPU Memory |\n",
      "|        ID   ID                                                               Usage      |\n",
      "|=========================================================================================|\n",
      "|  No running processes found                                                             |\n",
      "+-----------------------------------------------------------------------------------------+\n"
     ]
    },
    {
     "data": {
      "text/plain": [
       "<Result cmd='docker run --rm --gpus all ubuntu nvidia-smi' exited=0>"
      ]
     },
     "execution_count": 10,
     "metadata": {},
     "output_type": "execute_result"
    }
   ],
   "source": [
    "s.execute(\"docker run --rm --gpus all ubuntu nvidia-smi\")"
   ]
  },
  {
   "cell_type": "markdown",
   "metadata": {},
   "source": [
    "Let’s pull the actual container images that we are going to use,\n",
    "\n",
    "-   For the “Single GPU” section: a Jupyter notebook server with PyTorch and CUDA libraries\n",
    "-   For the “Multiple GPU” section: a PyTorch image with NVIDIA developer tools, which we’ll need in order to install DeepSpeed"
   ]
  },
  {
   "cell_type": "markdown",
   "metadata": {},
   "source": [
    "## Pull and start container for “Single GPU” section\n",
    "\n",
    "Let’s pull the container:"
   ]
  },
  {
   "cell_type": "code",
   "execution_count": 15,
   "metadata": {
    "tags": []
   },
   "outputs": [
    {
     "name": "stdout",
     "output_type": "stream",
     "text": [
      "cuda12-pytorch-2.5.1: Pulling from jupyter/pytorch-notebook\n",
      "54609b48ebc1: Pulling fs layer\n",
      "1bf84e16ee78: Pulling fs layer\n",
      "70c528583d48: Pulling fs layer\n",
      "4f4fb700ef54: Pulling fs layer\n",
      "d20e2bbc3444: Pulling fs layer\n",
      "e1236ab05074: Pulling fs layer\n",
      "eb55310ee8e5: Pulling fs layer\n",
      "247e1eb593d5: Pulling fs layer\n",
      "1ac7d388a98d: Pulling fs layer\n",
      "f27656f139fb: Pulling fs layer\n",
      "ac0c7c38d6ad: Pulling fs layer\n",
      "c48c65e32957: Pulling fs layer\n",
      "d79a028c87d5: Pulling fs layer\n",
      "97452dad12c2: Pulling fs layer\n",
      "aad099df5a3e: Pulling fs layer\n",
      "41e13f849bef: Pulling fs layer\n",
      "3734b2c4ea95: Pulling fs layer\n",
      "1ac7d388a98d: Waiting\n",
      "5d39b32f56c0: Pulling fs layer\n",
      "dfe267ba30ed: Pulling fs layer\n",
      "92e65b90a905: Pulling fs layer\n",
      "4f4fb700ef54: Waiting\n",
      "c48c65e32957: Waiting\n",
      "ac0c7c38d6ad: Waiting\n",
      "bc6b6634a9a2: Pulling fs layer\n",
      "35eb378f4751: Pulling fs layer\n",
      "d20e2bbc3444: Waiting\n",
      "f27656f139fb: Waiting\n",
      "be517295261b: Pulling fs layer\n",
      "d79a028c87d5: Waiting\n",
      "9ae764103bf5: Pulling fs layer\n",
      "e1236ab05074: Waiting\n",
      "aad099df5a3e: Waiting\n",
      "b3983557f014: Pulling fs layer\n",
      "97452dad12c2: Waiting\n",
      "eb55310ee8e5: Waiting\n",
      "5520f089e27b: Pulling fs layer\n",
      "41e13f849bef: Waiting\n",
      "3ce629816282: Pulling fs layer\n",
      "247e1eb593d5: Waiting\n",
      "3734b2c4ea95: Waiting\n",
      "dfe267ba30ed: Waiting\n",
      "3ce629816282: Waiting\n",
      "5520f089e27b: Waiting\n",
      "bc6b6634a9a2: Waiting\n",
      "b3983557f014: Waiting\n",
      "92e65b90a905: Waiting\n",
      "be517295261b: Waiting\n",
      "9ae764103bf5: Waiting\n",
      "35eb378f4751: Waiting\n",
      "70c528583d48: Verifying Checksum\n",
      "70c528583d48: Download complete\n",
      "4f4fb700ef54: Verifying Checksum\n",
      "4f4fb700ef54: Download complete\n",
      "d20e2bbc3444: Download complete\n",
      "1bf84e16ee78: Verifying Checksum\n",
      "1bf84e16ee78: Download complete\n",
      "54609b48ebc1: Verifying Checksum\n",
      "54609b48ebc1: Download complete\n",
      "e1236ab05074: Download complete\n",
      "247e1eb593d5: Download complete\n",
      "eb55310ee8e5: Verifying Checksum\n",
      "1ac7d388a98d: Download complete\n",
      "ac0c7c38d6ad: Verifying Checksum\n",
      "ac0c7c38d6ad: Download complete\n",
      "c48c65e32957: Download complete\n",
      "d79a028c87d5: Download complete\n",
      "97452dad12c2: Verifying Checksum\n",
      "97452dad12c2: Download complete\n",
      "41e13f849bef: Download complete\n",
      "f27656f139fb: Verifying Checksum\n",
      "f27656f139fb: Download complete\n",
      "3734b2c4ea95: Download complete\n",
      "5d39b32f56c0: Verifying Checksum\n",
      "5d39b32f56c0: Download complete\n",
      "92e65b90a905: Download complete\n",
      "aad099df5a3e: Verifying Checksum\n",
      "aad099df5a3e: Download complete\n",
      "bc6b6634a9a2: Verifying Checksum\n",
      "bc6b6634a9a2: Download complete\n",
      "35eb378f4751: Download complete\n",
      "54609b48ebc1: Pull complete\n",
      "1bf84e16ee78: Pull complete\n",
      "70c528583d48: Pull complete\n",
      "4f4fb700ef54: Pull complete\n",
      "d20e2bbc3444: Pull complete\n",
      "e1236ab05074: Pull complete\n",
      "eb55310ee8e5: Pull complete\n",
      "247e1eb593d5: Pull complete\n",
      "1ac7d388a98d: Pull complete\n",
      "dfe267ba30ed: Verifying Checksum\n",
      "dfe267ba30ed: Download complete\n",
      "b3983557f014: Download complete\n",
      "5520f089e27b: Verifying Checksum\n",
      "5520f089e27b: Download complete\n",
      "be517295261b: Verifying Checksum\n",
      "be517295261b: Download complete\n",
      "9ae764103bf5: Verifying Checksum\n",
      "9ae764103bf5: Download complete\n",
      "f27656f139fb: Pull complete\n",
      "ac0c7c38d6ad: Pull complete\n",
      "c48c65e32957: Pull complete\n",
      "d79a028c87d5: Pull complete\n",
      "97452dad12c2: Pull complete\n",
      "aad099df5a3e: Pull complete\n",
      "41e13f849bef: Pull complete\n",
      "3734b2c4ea95: Pull complete\n",
      "5d39b32f56c0: Pull complete\n",
      "dfe267ba30ed: Pull complete\n",
      "92e65b90a905: Pull complete\n",
      "bc6b6634a9a2: Pull complete\n",
      "35eb378f4751: Pull complete\n",
      "be517295261b: Pull complete\n",
      "9ae764103bf5: Pull complete\n",
      "b3983557f014: Pull complete\n",
      "5520f089e27b: Pull complete\n",
      "3ce629816282: Verifying Checksum\n",
      "3ce629816282: Download complete\n",
      "3ce629816282: Pull complete\n",
      "Digest: sha256:3a4865f4cb19ea3195855c7da7e13df8445126c43cb83dc1333f1dd17c719a62\n",
      "Status: Downloaded newer image for quay.io/jupyter/pytorch-notebook:cuda12-pytorch-2.5.1\n",
      "quay.io/jupyter/pytorch-notebook:cuda12-pytorch-2.5.1\n"
     ]
    },
    {
     "data": {
      "text/plain": [
       "<Result cmd='docker pull quay.io/jupyter/pytorch-notebook:cuda12-pytorch-2.5.1' exited=0>"
      ]
     },
     "execution_count": 15,
     "metadata": {},
     "output_type": "execute_result"
    }
   ],
   "source": [
    "s.execute(\"docker pull quay.io/jupyter/pytorch-notebook:cuda12-pytorch-2.5.1\")"
   ]
  },
  {
   "cell_type": "markdown",
   "metadata": {},
   "source": [
    "and get it running:"
   ]
  },
  {
   "cell_type": "code",
   "execution_count": 16,
   "metadata": {
    "tags": []
   },
   "outputs": [
    {
     "name": "stdout",
     "output_type": "stream",
     "text": [
      "43936e122ad1a9ef64d7118bcc870e97585db1a57f614a63c4d4c70e6aaa9685\n"
     ]
    },
    {
     "data": {
      "text/plain": [
       "<Result cmd='docker run -d -p 8888:8888 --gpus all --name torchnb quay.io/jupyter/pytorch-notebook:cuda12-pytorch-2.5.1' exited=0>"
      ]
     },
     "execution_count": 16,
     "metadata": {},
     "output_type": "execute_result"
    }
   ],
   "source": [
    "s.execute(\"docker run -d -p 8888:8888 --gpus all --name torchnb quay.io/jupyter/pytorch-notebook:cuda12-pytorch-2.5.1\")"
   ]
  },
  {
   "cell_type": "markdown",
   "metadata": {},
   "source": [
    "## There’s one more thing we must do before we can start out Jupyter server. Rather than expose the Jupyter server to the Internet, we are going to set up an SSH tunnel from our local terminal to our server, and access the service through that tunnel.\n",
    "\n",
    "Here’s how it works: In your *local* terminal, run\n",
    "\n",
    "    ssh -L 8888:127.0.0.1:8888 -i ~/.ssh/id_rsa_chameleon cc@A.B.C.D\n",
    "\n",
    "where,\n",
    "\n",
    "-   instead of `~/.ssh/id_rsa_chameleon`, substitute the path to your key\n",
    "-   and instead of `A.B.C.D`, substitute the floating IP associated with your server\n",
    "\n",
    "This will configure the SSH session so that when you connect to port 8888 locally, it will be forwarded over the SSH tunnel to port 8888 on the host at the other end of the SSH connection.\n",
    "\n",
    "SSH tunneling is a convenient way to access services on a remote machine when you don’t necessarily want to expose those services to the Internet (for example: if they are not secured from unauthorized access)."
   ]
  },
  {
   "cell_type": "markdown",
   "metadata": {},
   "source": [
    "Finally, run"
   ]
  },
  {
   "cell_type": "code",
   "execution_count": 13,
   "metadata": {
    "tags": []
   },
   "outputs": [
    {
     "name": "stdout",
     "output_type": "stream",
     "text": [
      "Entered start.sh with args: start-notebook.py\n",
      "Running hooks in: /usr/local/bin/start-notebook.d as uid: 1000 gid: 100\n",
      "Done running hooks in: /usr/local/bin/start-notebook.d\n",
      "Running hooks in: /usr/local/bin/before-notebook.d as uid: 1000 gid: 100\n",
      "Sourcing shell script: /usr/local/bin/before-notebook.d/10activate-conda-env.sh\n",
      "Done running hooks in: /usr/local/bin/before-notebook.d\n",
      "Executing the command: start-notebook.py\n"
     ]
    },
    {
     "name": "stderr",
     "output_type": "stream",
     "text": [
      "[I 2025-05-10 10:46:28.200 ServerApp] jupyter_lsp | extension was successfully linked.\n",
      "[I 2025-05-10 10:46:28.203 ServerApp] jupyter_server_mathjax | extension was successfully linked.\n",
      "[I 2025-05-10 10:46:28.205 ServerApp] jupyter_server_terminals | extension was successfully linked.\n",
      "[I 2025-05-10 10:46:28.208 ServerApp] jupyterlab | extension was successfully linked.\n",
      "[I 2025-05-10 10:46:28.208 ServerApp] jupyterlab_git | extension was successfully linked.\n",
      "[I 2025-05-10 10:46:28.210 ServerApp] nbclassic | extension was successfully linked.\n",
      "[I 2025-05-10 10:46:28.210 ServerApp] nbdime | extension was successfully linked.\n",
      "[I 2025-05-10 10:46:28.213 ServerApp] notebook | extension was successfully linked.\n",
      "[I 2025-05-10 10:46:28.215 ServerApp] Writing Jupyter server cookie secret to /home/jovyan/.local/share/jupyter/runtime/jupyter_cookie_secret\n",
      "[I 2025-05-10 10:46:28.368 ServerApp] notebook_shim | extension was successfully linked.\n",
      "[W 2025-05-10 10:46:28.382 ServerApp] WARNING: The Jupyter server is listening on all IP addresses and not using encryption. This is not recommended.\n",
      "[I 2025-05-10 10:46:28.382 ServerApp] notebook_shim | extension was successfully loaded.\n",
      "[I 2025-05-10 10:46:28.384 ServerApp] jupyter_lsp | extension was successfully loaded.\n",
      "[I 2025-05-10 10:46:28.384 ServerApp] jupyter_server_mathjax | extension was successfully loaded.\n",
      "[I 2025-05-10 10:46:28.385 ServerApp] jupyter_server_terminals | extension was successfully loaded.\n",
      "[I 2025-05-10 10:46:28.387 LabApp] JupyterLab extension loaded from /opt/conda/lib/python3.12/site-packages/jupyterlab\n",
      "[I 2025-05-10 10:46:28.387 LabApp] JupyterLab application directory is /opt/conda/share/jupyter/lab\n",
      "[I 2025-05-10 10:46:28.387 LabApp] Extension Manager is 'pypi'.\n",
      "[I 2025-05-10 10:46:28.443 ServerApp] jupyterlab | extension was successfully loaded.\n",
      "[I 2025-05-10 10:46:28.446 ServerApp] jupyterlab_git | extension was successfully loaded.\n",
      "[I 2025-05-10 10:46:28.449 ServerApp] nbclassic | extension was successfully loaded.\n",
      "[I 2025-05-10 10:46:28.489 ServerApp] nbdime | extension was successfully loaded.\n",
      "[I 2025-05-10 10:46:28.492 ServerApp] notebook | extension was successfully loaded.\n",
      "[I 2025-05-10 10:46:28.493 ServerApp] Serving notebooks from local directory: /home/jovyan\n",
      "[I 2025-05-10 10:46:28.493 ServerApp] Jupyter Server 2.15.0 is running at:\n",
      "[I 2025-05-10 10:46:28.493 ServerApp] http://localhost:8888/lab?token=3f39b6b5636de445f1e5334cc7a9da852d7d93e7be163739\n",
      "[I 2025-05-10 10:46:28.493 ServerApp]     http://127.0.0.1:8888/lab?token=3f39b6b5636de445f1e5334cc7a9da852d7d93e7be163739\n",
      "[I 2025-05-10 10:46:28.493 ServerApp] Use Control-C to stop this server and shut down all kernels (twice to skip confirmation).\n",
      "[C 2025-05-10 10:46:28.495 ServerApp] \n",
      "    \n",
      "    To access the server, open this file in a browser:\n",
      "        file:///home/jovyan/.local/share/jupyter/runtime/jpserver-7-open.html\n",
      "    Or copy and paste one of these URLs:\n",
      "        http://localhost:8888/lab?token=3f39b6b5636de445f1e5334cc7a9da852d7d93e7be163739\n",
      "        http://127.0.0.1:8888/lab?token=3f39b6b5636de445f1e5334cc7a9da852d7d93e7be163739\n",
      "[I 2025-05-10 10:46:28.517 ServerApp] Skipped non-installed server(s): bash-language-server, dockerfile-language-server-nodejs, javascript-typescript-langserver, jedi-language-server, julia-language-server, pyright, python-language-server, python-lsp-server, r-languageserver, sql-language-server, texlab, typescript-language-server, unified-language-server, vscode-css-languageserver-bin, vscode-html-languageserver-bin, vscode-json-languageserver-bin, yaml-language-server\n"
     ]
    },
    {
     "data": {
      "text/plain": [
       "<Result cmd='docker logs torchnb' exited=0>"
      ]
     },
     "execution_count": 13,
     "metadata": {},
     "output_type": "execute_result"
    }
   ],
   "source": [
    "s.execute(\"docker logs torchnb\")"
   ]
  },
  {
   "cell_type": "code",
   "execution_count": 17,
   "metadata": {
    "tags": []
   },
   "outputs": [
    {
     "name": "stdout",
     "output_type": "stream",
     "text": [
      "Entered start.sh with args: start-notebook.py\n",
      "Running hooks in: /usr/local/bin/start-notebook.d as uid: 1000 gid: 100\n",
      "Done running hooks in: /usr/local/bin/start-notebook.d\n",
      "Running hooks in: /usr/local/bin/before-notebook.d as uid: 1000 gid: 100\n",
      "Sourcing shell script: /usr/local/bin/before-notebook.d/10activate-conda-env.sh\n",
      "Done running hooks in: /usr/local/bin/before-notebook.d\n",
      "Executing the command: start-notebook.py\n"
     ]
    },
    {
     "name": "stderr",
     "output_type": "stream",
     "text": [
      "[I 2025-05-13 09:55:33.403 ServerApp] jupyter_lsp | extension was successfully linked.\n",
      "[I 2025-05-13 09:55:33.406 ServerApp] jupyter_server_mathjax | extension was successfully linked.\n",
      "[I 2025-05-13 09:55:33.408 ServerApp] jupyter_server_terminals | extension was successfully linked.\n",
      "[I 2025-05-13 09:55:33.411 ServerApp] jupyterlab | extension was successfully linked.\n",
      "[I 2025-05-13 09:55:33.411 ServerApp] jupyterlab_git | extension was successfully linked.\n",
      "[I 2025-05-13 09:55:33.413 ServerApp] nbclassic | extension was successfully linked.\n",
      "[I 2025-05-13 09:55:33.413 ServerApp] nbdime | extension was successfully linked.\n",
      "[I 2025-05-13 09:55:33.416 ServerApp] notebook | extension was successfully linked.\n",
      "[I 2025-05-13 09:55:33.418 ServerApp] Writing Jupyter server cookie secret to /home/jovyan/.local/share/jupyter/runtime/jupyter_cookie_secret\n",
      "[I 2025-05-13 09:55:33.567 ServerApp] notebook_shim | extension was successfully linked.\n",
      "[W 2025-05-13 09:55:33.581 ServerApp] WARNING: The Jupyter server is listening on all IP addresses and not using encryption. This is not recommended.\n",
      "[I 2025-05-13 09:55:33.582 ServerApp] notebook_shim | extension was successfully loaded.\n",
      "[I 2025-05-13 09:55:33.583 ServerApp] jupyter_lsp | extension was successfully loaded.\n",
      "[I 2025-05-13 09:55:33.584 ServerApp] jupyter_server_mathjax | extension was successfully loaded.\n",
      "[I 2025-05-13 09:55:33.584 ServerApp] jupyter_server_terminals | extension was successfully loaded.\n",
      "[I 2025-05-13 09:55:33.586 LabApp] JupyterLab extension loaded from /opt/conda/lib/python3.12/site-packages/jupyterlab\n",
      "[I 2025-05-13 09:55:33.586 LabApp] JupyterLab application directory is /opt/conda/share/jupyter/lab\n",
      "[I 2025-05-13 09:55:33.587 LabApp] Extension Manager is 'pypi'.\n",
      "[I 2025-05-13 09:55:33.643 ServerApp] jupyterlab | extension was successfully loaded.\n",
      "[I 2025-05-13 09:55:33.646 ServerApp] jupyterlab_git | extension was successfully loaded.\n",
      "[I 2025-05-13 09:55:33.649 ServerApp] nbclassic | extension was successfully loaded.\n",
      "[I 2025-05-13 09:55:33.688 ServerApp] nbdime | extension was successfully loaded.\n",
      "[I 2025-05-13 09:55:33.692 ServerApp] notebook | extension was successfully loaded.\n",
      "[I 2025-05-13 09:55:33.692 ServerApp] Serving notebooks from local directory: /home/jovyan\n",
      "[I 2025-05-13 09:55:33.692 ServerApp] Jupyter Server 2.15.0 is running at:\n",
      "[I 2025-05-13 09:55:33.693 ServerApp] http://localhost:8888/lab?token=f2a62f243f635b376102669e7ff17d49a5e4a4578d2c62d0\n",
      "[I 2025-05-13 09:55:33.693 ServerApp]     http://127.0.0.1:8888/lab?token=f2a62f243f635b376102669e7ff17d49a5e4a4578d2c62d0\n",
      "[I 2025-05-13 09:55:33.693 ServerApp] Use Control-C to stop this server and shut down all kernels (twice to skip confirmation).\n",
      "[C 2025-05-13 09:55:33.695 ServerApp] \n",
      "    \n",
      "    To access the server, open this file in a browser:\n",
      "        file:///home/jovyan/.local/share/jupyter/runtime/jpserver-7-open.html\n",
      "    Or copy and paste one of these URLs:\n",
      "        http://localhost:8888/lab?token=f2a62f243f635b376102669e7ff17d49a5e4a4578d2c62d0\n",
      "        http://127.0.0.1:8888/lab?token=f2a62f243f635b376102669e7ff17d49a5e4a4578d2c62d0\n",
      "[I 2025-05-13 09:55:33.716 ServerApp] Skipped non-installed server(s): bash-language-server, dockerfile-language-server-nodejs, javascript-typescript-langserver, jedi-language-server, julia-language-server, pyright, python-language-server, python-lsp-server, r-languageserver, sql-language-server, texlab, typescript-language-server, unified-language-server, vscode-css-languageserver-bin, vscode-html-languageserver-bin, vscode-json-languageserver-bin, yaml-language-server\n"
     ]
    },
    {
     "data": {
      "text/plain": [
       "<Result cmd='docker logs torchnb' exited=0>"
      ]
     },
     "execution_count": 17,
     "metadata": {},
     "output_type": "execute_result"
    }
   ],
   "source": [
    "s.execute(\"docker logs torchnb\")"
   ]
  },
  {
   "cell_type": "markdown",
   "metadata": {},
   "source": [
    "Look for the line of output in the form:\n",
    "\n",
    "    http://127.0.0.1:8888/lab?token=XXXXXXXXXXXXXXXXXXXXXXXXXXXXXXXXXXXXXXXXXXXXXXXXXX\n",
    "\n",
    "and copy it for use in the next section."
   ]
  },
  {
   "cell_type": "markdown",
   "metadata": {},
   "source": [
    "You will continue working from the next notebook! But, if you are planning to do the “Multiple GPU” section in the same lease, run the following cells too, to let the container image for the “Multiple GPU” section get pulled in the background. This image takes a loooooong time to pull, so it’s important to get it started and leave it running while you are working in your other tab on the “Single GPU” section."
   ]
  },
  {
   "cell_type": "markdown",
   "metadata": {},
   "source": [
    "## Pull container for “Multiple GPU” section"
   ]
  },
  {
   "cell_type": "code",
   "execution_count": null,
   "metadata": {
    "tags": []
   },
   "outputs": [],
   "source": [
    "# s.execute(\"docker pull pytorch/pytorch:2.5.1-cuda12.4-cudnn9-devel\")"
   ]
  },
  {
   "cell_type": "markdown",
   "metadata": {},
   "source": [
    "and let’s also install some software on the host that we’ll use in the “Multiple GPU” section:"
   ]
  },
  {
   "cell_type": "code",
   "execution_count": null,
   "metadata": {
    "tags": []
   },
   "outputs": [],
   "source": [
    "# s.execute(\"sudo apt update; sudo apt -y install nvtop\")"
   ]
  },
  {
   "cell_type": "code",
   "execution_count": null,
   "metadata": {},
   "outputs": [],
   "source": []
  }
 ],
 "metadata": {
  "kernelspec": {
   "display_name": "Python 3 (ipykernel)",
   "language": "python",
   "name": "python3"
  },
  "language_info": {
   "codemirror_mode": {
    "name": "ipython",
    "version": 3
   },
   "file_extension": ".py",
   "mimetype": "text/x-python",
   "name": "python",
   "nbconvert_exporter": "python",
   "pygments_lexer": "ipython3",
   "version": "3.10.9"
  }
 },
 "nbformat": 4,
 "nbformat_minor": 4
}
